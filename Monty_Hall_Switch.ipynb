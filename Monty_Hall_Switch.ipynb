{
  "nbformat": 4,
  "nbformat_minor": 0,
  "metadata": {
    "colab": {
      "name": "Monty Hall - Switch.ipynb",
      "provenance": [],
      "authorship_tag": "ABX9TyOH0rk6p946gjT+HXcLr0jp",
      "include_colab_link": true
    },
    "kernelspec": {
      "name": "python3",
      "display_name": "Python 3"
    }
  },
  "cells": [
    {
      "cell_type": "markdown",
      "metadata": {
        "id": "view-in-github",
        "colab_type": "text"
      },
      "source": [
        "<a href=\"https://colab.research.google.com/github/bliu003/hello-world/blob/master/Monty_Hall_Switch.ipynb\" target=\"_parent\"><img src=\"https://colab.research.google.com/assets/colab-badge.svg\" alt=\"Open In Colab\"/></a>"
      ]
    },
    {
      "cell_type": "code",
      "metadata": {
        "id": "m7x6wwb4y9Qb",
        "colab_type": "code",
        "colab": {}
      },
      "source": [
        ""
      ],
      "execution_count": null,
      "outputs": []
    },
    {
      "cell_type": "code",
      "metadata": {
        "colab_type": "code",
        "id": "081R9Gy9t3Na",
        "colab": {}
      },
      "source": [
        "#strategy: switch \n",
        "%reset \n",
        "import random\n",
        "all_doors = [\"door1\", \"door2\", \"door3\"]\n",
        "remaining_doors = []\n",
        "result = 0\n",
        "i = 1\n",
        "times = 1000 #this can change to 1000 etc \n",
        "\n",
        "while i <= times:\n",
        "  all_doors = ['door1', 'door2', 'door3']\n",
        "  remainning_doors = all_doors\n",
        "  \n",
        "  good_door = random.choice(all_doors) # this decides which door has prize. Does this change all_doors to good_door? No.\n",
        "  print (\"secret: the door with a prize is \" + good_door)\n",
        "\n",
        "  first_selection = random.choice(all_doors) # this is the guest's first selection \n",
        "  print(all_doors)\n",
        "  print (\"You have selected \" + first_selection)\n",
        "  remainning_doors.remove(first_selection) \n",
        "  print (\"The two remaining doors are \" + str(remainning_doors))\n",
        "\n",
        "  if (good_door in remainning_doors):\n",
        "      remainning_doors.remove(good_door) \n",
        "      host_door = str(remainning_doors) # this string is ['door2'], rather than door2. So I need to remove [' ']\n",
        "      host_door = str(host_door)[2:7] # This is to convert ['door2'] to door2.\n",
        "         \n",
        "      print(\"The good door is in the remaining doors, so the host opened the other bad door, being \" + str(host_door))\n",
        "  \n",
        "  else:\n",
        "      host_door = str(random.choice(remainning_doors)) # this is the problem\n",
        "      # print(host_door)\n",
        "      print (\"The good door is not in the remaining doors, so the host has openned a random door, being \"+ str(host_door))\n",
        "      remainning_doors.remove(host_door)\n",
        " \n",
        "  all_doors = [\"door1\", \"door2\", \"door3\"] # I need this line to reset all doors. But I do not know why, at this stage, all doors has changed in the first place\n",
        "  print(\"Now, after the host has openned a door, all doors are:     \" + str(all_doors) + '!!!' )\n",
        "  # print(all_doors) # here all doors changed to host door. Why? \n",
        "  all_doors.remove(host_door)\n",
        "  print(\"And the remaining doors are:  \" + str(all_doors))   \n",
        "  print (\"Now you can select from: \" + str(all_doors))\n",
        "\n",
        "\n",
        "  all_doors.remove(first_selection) # This is to select the other door (you did not select the first time) from the two unopened doors   \n",
        "  print(\"You decided to switch, and your second selection is:\" + str(all_doors))\n",
        "  second_selection = str(all_doors)[2:7]\n",
        "  print (\"The good door is:\" + str(good_door))\n",
        "  if second_selection == good_door:\n",
        "    result = result + 1\n",
        "    print (\"You win\")\n",
        "  else:\n",
        "    print (\"You lose\")\n",
        "\n",
        "  print (\"You have played \" + str(i) + \" times, and your total win is \" + str(result))\n",
        "\n",
        "  print (\"\"\"\n",
        "\n",
        "  ---------------\n",
        "\n",
        "  \"\"\")\n",
        "  i = i + 1\n",
        "\n",
        " \n",
        "\n"
      ],
      "execution_count": null,
      "outputs": []
    }
  ]
}